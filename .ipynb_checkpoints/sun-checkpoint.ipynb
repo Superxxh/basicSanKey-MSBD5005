{
 "cells": [
  {
   "cell_type": "code",
   "execution_count": 1,
   "metadata": {},
   "outputs": [
    {
     "name": "stdout",
     "output_type": "stream",
     "text": [
      "<class 'pandas.core.frame.DataFrame'>\n",
      "RangeIndex: 346733 entries, 0 to 346732\n",
      "Data columns (total 8 columns):\n",
      "Port Name    346733 non-null object\n",
      "State        346733 non-null object\n",
      "Port Code    346733 non-null int64\n",
      "Border       346733 non-null object\n",
      "Date         346733 non-null object\n",
      "Measure      346733 non-null object\n",
      "Value        346733 non-null int64\n",
      "Location     346733 non-null object\n",
      "dtypes: int64(2), object(6)\n",
      "memory usage: 21.2+ MB\n"
     ]
    }
   ],
   "source": [
    "%matplotlib inline\n",
    "import pandas as pd\n",
    "import numpy as np\n",
    "import matplotlib.pyplot as plt\n",
    "import seaborn as sns\n",
    "import warnings\n",
    "warnings.filterwarnings('ignore')\n",
    "\n",
    "train = pd.read_csv(r'Border_Crossing_Entry_Data.csv')\n",
    "train.info()"
   ]
  },
  {
   "cell_type": "code",
   "execution_count": 2,
   "metadata": {},
   "outputs": [
    {
     "name": "stdout",
     "output_type": "stream",
     "text": [
      "Port Name\n",
      "State\n",
      "Port Code\n",
      "Border\n",
      "Date\n",
      "Measure\n",
      "Value\n",
      "Location\n"
     ]
    }
   ],
   "source": [
    "# for row in train:\n",
    "#     if row['Date'].split('-')[2] != '2019':\n",
    "#         train.drop(row)\n",
    "# train.to_csv('train2019.csv', index=False)"
   ]
  },
  {
   "cell_type": "code",
   "execution_count": null,
   "metadata": {},
   "outputs": [],
   "source": [
    "p_s=[]\n",
    "for p in train['Port Name'].unique():\n",
    "    for s in train['State']:\n",
    "        tmp = {}\n",
    "        tmp['port'] = p\n",
    "        tmp['state'] = s\n",
    "        tmp['value'] = train[(train['Port Name'] == p) & (train['State'] == s) & (train['State'] == s)]['Value'].sum()\n",
    "        p_s.append(tmp)\n",
    "print(p_s)"
   ]
  },
  {
   "cell_type": "code",
   "execution_count": null,
   "metadata": {},
   "outputs": [],
   "source": []
  }
 ],
 "metadata": {
  "kernelspec": {
   "display_name": "Python 3",
   "language": "python",
   "name": "python3"
  },
  "language_info": {
   "codemirror_mode": {
    "name": "ipython",
    "version": 3
   },
   "file_extension": ".py",
   "mimetype": "text/x-python",
   "name": "python",
   "nbconvert_exporter": "python",
   "pygments_lexer": "ipython3",
   "version": "3.7.3"
  }
 },
 "nbformat": 4,
 "nbformat_minor": 2
}
