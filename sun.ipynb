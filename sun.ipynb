{
 "cells": [
  {
   "cell_type": "code",
   "execution_count": 1,
   "metadata": {},
   "outputs": [
    {
     "data": {
      "text/plain": [
       "array(['California', 'Maine', 'Arizona', 'New York', 'North Dakota',\n",
       "       'Texas', 'Montana', 'Minnesota', 'Vermont', 'Washington', 'Idaho',\n",
       "       'Michigan', 'New Mexico', 'Alaska', 'Ohio'], dtype=object)"
      ]
     },
     "execution_count": 1,
     "metadata": {},
     "output_type": "execute_result"
    }
   ],
   "source": [
    "%matplotlib inline\n",
    "import pandas as pd\n",
    "import numpy as np\n",
    "import matplotlib.pyplot as plt\n",
    "import seaborn as sns\n",
    "import warnings\n",
    "warnings.filterwarnings('ignore')\n",
    "\n",
    "train = pd.read_csv(r'Border_Crossing_Entry_Data.csv')\n",
    "train['State'].unique()"
   ]
  },
  {
   "cell_type": "code",
   "execution_count": 2,
   "metadata": {},
   "outputs": [
    {
     "data": {
      "text/plain": [
       "2010    16200\n",
       "2006    16128\n",
       "2005    16128\n",
       "2007    16056\n",
       "2008    16056\n",
       "2009    16056\n",
       "2004    15984\n",
       "2015    15984\n",
       "2011    15840\n",
       "2012    15840\n",
       "2014    15840\n",
       "2013    15840\n",
       "2003    15588\n",
       "2000    14832\n",
       "1997    14832\n",
       "1996    14832\n",
       "1999    14832\n",
       "1998    14832\n",
       "2002    14832\n",
       "2001    14832\n",
       "2016    13754\n",
       "2017     9717\n",
       "2018     9534\n",
       "2019     2364\n",
       "Name: year, dtype: int64"
      ]
     },
     "execution_count": 2,
     "metadata": {},
     "output_type": "execute_result"
    }
   ],
   "source": [
    "def transfor(x):\n",
    "# for x in train['Date']:\n",
    "    tmp_year = x.split('/')[2]\n",
    "    return tmp_year.split(' ')[0]\n",
    "train['year'] = train['Date'].apply(transfor)\n",
    "train['year'].value_counts()"
   ]
  },
  {
   "cell_type": "code",
   "execution_count": 3,
   "metadata": {},
   "outputs": [
    {
     "data": {
      "text/plain": [
       "array(['California', 'Maine', 'Arizona', 'New York', 'North Dakota',\n",
       "       'Texas', 'Montana', 'Minnesota', 'Vermont', 'Washington', 'Idaho',\n",
       "       'Michigan', 'New Mexico', 'Alaska', 'Ohio'], dtype=object)"
      ]
     },
     "execution_count": 3,
     "metadata": {},
     "output_type": "execute_result"
    }
   ],
   "source": [
    "def stat(x):\n",
    "    t = x.split(' ')\n",
    "    if len(t) > 1:\n",
    "        return t[0]+'_'+t[1]\n",
    "    return t[0]\n",
    "train['un_State'] = train['State'].apply(stat)\n",
    "train['State'].unique()"
   ]
  },
  {
   "cell_type": "code",
   "execution_count": null,
   "metadata": {},
   "outputs": [],
   "source": [
    "p_s=[]\n",
    "for y in train['year'].unique():\n",
    "#     print(y)\n",
    "    for s in train['un_State'].unique():\n",
    "        port_unique = train[train['un_State'] == s]['Port Name'].unique()\n",
    "#         print(s, port_unique)\n",
    "        for p in port_unique:\n",
    "            tmp = train[(train['un_State'] == s) & (train['Port Name'] == p) & (train['year'] == y)]['Value'].sum()\n",
    "#             print(s, p, tmp,y)\n",
    "            if tmp > 8000000:\n",
    "                p_s.append({'port':p,'state':s,'value':tmp ,'year':y})\n",
    "print(p_s)"
   ]
  },
  {
   "cell_type": "code",
   "execution_count": 7,
   "metadata": {},
   "outputs": [],
   "source": [
    "df3 = pd.DataFrame.from_dict(p_s)\n",
    "df3.to_csv('train2019.csv', index=False)"
   ]
  },
  {
   "cell_type": "code",
   "execution_count": null,
   "metadata": {},
   "outputs": [],
   "source": []
  }
 ],
 "metadata": {
  "kernelspec": {
   "display_name": "Python 3",
   "language": "python",
   "name": "python3"
  },
  "language_info": {
   "codemirror_mode": {
    "name": "ipython",
    "version": 3
   },
   "file_extension": ".py",
   "mimetype": "text/x-python",
   "name": "python",
   "nbconvert_exporter": "python",
   "pygments_lexer": "ipython3",
   "version": "3.7.3"
  }
 },
 "nbformat": 4,
 "nbformat_minor": 2
}
